{
 "cells": [
  {
   "cell_type": "markdown",
   "metadata": {},
   "source": [
    "# LSTM Stock Predictor Using Closing Prices\n",
    "\n",
    "In this notebook, you will build and train a custom LSTM RNN that uses a 10 day window of Bitcoin closing prices to predict the 11th day closing price. \n",
    "\n",
    "You will need to:\n",
    "\n",
    "1. Prepare the data for training and testing\n",
    "2. Build and train a custom LSTM RNN\n",
    "3. Evaluate the performance of the model"
   ]
  },
  {
   "cell_type": "markdown",
   "metadata": {},
   "source": [
    "## Data Preparation\n",
    "\n",
    "In this section, you will need to prepare the training and testing data for the model. The model will use a rolling 10 day window to predict the 11th day closing price.\n",
    "\n",
    "You will need to:\n",
    "1. Use the `window_data` function to generate the X and y values for the model.\n",
    "2. Split the data into 70% training and 30% testing\n",
    "3. Apply the MinMaxScaler to the X and y values\n",
    "4. Reshape the X_train and X_test data for the model. Note: The required input format for the LSTM is:\n",
    "\n",
    "```python\n",
    "reshape((X_train.shape[0], X_train.shape[1], 1))\n",
    "```"
   ]
  },
  {
   "cell_type": "code",
   "execution_count": 23,
   "metadata": {},
   "outputs": [],
   "source": [
    "import numpy as np\n",
    "import pandas as pd\n",
    "import hvplot.pandas"
   ]
  },
  {
   "cell_type": "code",
   "execution_count": 24,
   "metadata": {},
   "outputs": [],
   "source": [
    "# Set the random seed for reproducibility\n",
    "# Note: This is for the homework solution, but it is good practice to comment this out and run multiple experiments to evaluate your model\n",
    "from numpy.random import seed\n",
    "seed(1)\n",
    "from tensorflow import random\n",
    "random.set_seed(2)"
   ]
  },
  {
   "cell_type": "code",
   "execution_count": 25,
   "metadata": {},
   "outputs": [
    {
     "data": {
      "text/html": [
       "<div>\n",
       "<style scoped>\n",
       "    .dataframe tbody tr th:only-of-type {\n",
       "        vertical-align: middle;\n",
       "    }\n",
       "\n",
       "    .dataframe tbody tr th {\n",
       "        vertical-align: top;\n",
       "    }\n",
       "\n",
       "    .dataframe thead th {\n",
       "        text-align: right;\n",
       "    }\n",
       "</style>\n",
       "<table border=\"1\" class=\"dataframe\">\n",
       "  <thead>\n",
       "    <tr style=\"text-align: right;\">\n",
       "      <th></th>\n",
       "      <th>fng_value</th>\n",
       "    </tr>\n",
       "    <tr>\n",
       "      <th>date</th>\n",
       "      <th></th>\n",
       "    </tr>\n",
       "  </thead>\n",
       "  <tbody>\n",
       "    <tr>\n",
       "      <th>2019-07-29</th>\n",
       "      <td>19</td>\n",
       "    </tr>\n",
       "    <tr>\n",
       "      <th>2019-07-28</th>\n",
       "      <td>16</td>\n",
       "    </tr>\n",
       "    <tr>\n",
       "      <th>2019-07-27</th>\n",
       "      <td>47</td>\n",
       "    </tr>\n",
       "    <tr>\n",
       "      <th>2019-07-26</th>\n",
       "      <td>24</td>\n",
       "    </tr>\n",
       "    <tr>\n",
       "      <th>2019-07-25</th>\n",
       "      <td>42</td>\n",
       "    </tr>\n",
       "  </tbody>\n",
       "</table>\n",
       "</div>"
      ],
      "text/plain": [
       "             fng_value\n",
       "date                  \n",
       "2019-07-29          19\n",
       "2019-07-28          16\n",
       "2019-07-27          47\n",
       "2019-07-26          24\n",
       "2019-07-25          42"
      ]
     },
     "execution_count": 25,
     "metadata": {},
     "output_type": "execute_result"
    }
   ],
   "source": [
    "# Load the fear and greed sentiment data for Bitcoin\n",
    "df = pd.read_csv('btc_sentiment.csv', index_col=\"date\", infer_datetime_format=True, parse_dates=True)\n",
    "df = df.drop(columns=\"fng_classification\")\n",
    "df.head()"
   ]
  },
  {
   "cell_type": "code",
   "execution_count": 26,
   "metadata": {},
   "outputs": [
    {
     "data": {
      "text/plain": [
       "Date\n",
       "2019-07-25   9882.43\n",
       "2019-07-26   9847.45\n",
       "2019-07-27   9478.32\n",
       "2019-07-28   9531.77\n",
       "2019-07-29   9529.89\n",
       "Name: Close, dtype: float64"
      ]
     },
     "execution_count": 26,
     "metadata": {},
     "output_type": "execute_result"
    }
   ],
   "source": [
    "# Load the historical closing prices for Bitcoin\n",
    "df2 = pd.read_csv('btc_historic.csv', index_col=\"Date\", infer_datetime_format=True, parse_dates=True)['Close']\n",
    "df2 = df2.sort_index()\n",
    "df2.tail()"
   ]
  },
  {
   "cell_type": "code",
   "execution_count": 27,
   "metadata": {},
   "outputs": [
    {
     "data": {
      "text/html": [
       "<div>\n",
       "<style scoped>\n",
       "    .dataframe tbody tr th:only-of-type {\n",
       "        vertical-align: middle;\n",
       "    }\n",
       "\n",
       "    .dataframe tbody tr th {\n",
       "        vertical-align: top;\n",
       "    }\n",
       "\n",
       "    .dataframe thead th {\n",
       "        text-align: right;\n",
       "    }\n",
       "</style>\n",
       "<table border=\"1\" class=\"dataframe\">\n",
       "  <thead>\n",
       "    <tr style=\"text-align: right;\">\n",
       "      <th></th>\n",
       "      <th>fng_value</th>\n",
       "      <th>Close</th>\n",
       "    </tr>\n",
       "  </thead>\n",
       "  <tbody>\n",
       "    <tr>\n",
       "      <th>2019-07-25</th>\n",
       "      <td>42</td>\n",
       "      <td>9882.43</td>\n",
       "    </tr>\n",
       "    <tr>\n",
       "      <th>2019-07-26</th>\n",
       "      <td>24</td>\n",
       "      <td>9847.45</td>\n",
       "    </tr>\n",
       "    <tr>\n",
       "      <th>2019-07-27</th>\n",
       "      <td>47</td>\n",
       "      <td>9478.32</td>\n",
       "    </tr>\n",
       "    <tr>\n",
       "      <th>2019-07-28</th>\n",
       "      <td>16</td>\n",
       "      <td>9531.77</td>\n",
       "    </tr>\n",
       "    <tr>\n",
       "      <th>2019-07-29</th>\n",
       "      <td>19</td>\n",
       "      <td>9529.89</td>\n",
       "    </tr>\n",
       "  </tbody>\n",
       "</table>\n",
       "</div>"
      ],
      "text/plain": [
       "             fng_value   Close\n",
       "2019-07-25          42 9882.43\n",
       "2019-07-26          24 9847.45\n",
       "2019-07-27          47 9478.32\n",
       "2019-07-28          16 9531.77\n",
       "2019-07-29          19 9529.89"
      ]
     },
     "execution_count": 27,
     "metadata": {},
     "output_type": "execute_result"
    }
   ],
   "source": [
    "# Join the data into a single DataFrame\n",
    "df = df.join(df2, how=\"inner\")\n",
    "df.tail()"
   ]
  },
  {
   "cell_type": "code",
   "execution_count": 28,
   "metadata": {},
   "outputs": [
    {
     "data": {
      "text/html": [
       "<div>\n",
       "<style scoped>\n",
       "    .dataframe tbody tr th:only-of-type {\n",
       "        vertical-align: middle;\n",
       "    }\n",
       "\n",
       "    .dataframe tbody tr th {\n",
       "        vertical-align: top;\n",
       "    }\n",
       "\n",
       "    .dataframe thead th {\n",
       "        text-align: right;\n",
       "    }\n",
       "</style>\n",
       "<table border=\"1\" class=\"dataframe\">\n",
       "  <thead>\n",
       "    <tr style=\"text-align: right;\">\n",
       "      <th></th>\n",
       "      <th>fng_value</th>\n",
       "      <th>Close</th>\n",
       "    </tr>\n",
       "  </thead>\n",
       "  <tbody>\n",
       "    <tr>\n",
       "      <th>2018-02-01</th>\n",
       "      <td>30</td>\n",
       "      <td>9114.72</td>\n",
       "    </tr>\n",
       "    <tr>\n",
       "      <th>2018-02-02</th>\n",
       "      <td>15</td>\n",
       "      <td>8870.82</td>\n",
       "    </tr>\n",
       "    <tr>\n",
       "      <th>2018-02-03</th>\n",
       "      <td>40</td>\n",
       "      <td>9251.27</td>\n",
       "    </tr>\n",
       "    <tr>\n",
       "      <th>2018-02-04</th>\n",
       "      <td>24</td>\n",
       "      <td>8218.05</td>\n",
       "    </tr>\n",
       "    <tr>\n",
       "      <th>2018-02-05</th>\n",
       "      <td>11</td>\n",
       "      <td>6937.08</td>\n",
       "    </tr>\n",
       "  </tbody>\n",
       "</table>\n",
       "</div>"
      ],
      "text/plain": [
       "             fng_value   Close\n",
       "2018-02-01          30 9114.72\n",
       "2018-02-02          15 8870.82\n",
       "2018-02-03          40 9251.27\n",
       "2018-02-04          24 8218.05\n",
       "2018-02-05          11 6937.08"
      ]
     },
     "execution_count": 28,
     "metadata": {},
     "output_type": "execute_result"
    }
   ],
   "source": [
    "df.head()"
   ]
  },
  {
   "cell_type": "code",
   "execution_count": 29,
   "metadata": {},
   "outputs": [],
   "source": [
    "# This function accepts the column number for the features (X) and the target (y)\n",
    "# It chunks the data up with a rolling window of Xt-n to predict Xt\n",
    "# It returns a numpy array of X any y\n",
    "def window_data(df, window, feature_col_number, target_col_number):\n",
    "    X = []\n",
    "    y = []\n",
    "    for i in range(len(df) - window - 1):\n",
    "        features = df.iloc[i:(i + window), feature_col_number]\n",
    "        target = df.iloc[(i + window), target_col_number]\n",
    "        X.append(features)\n",
    "        y.append(target)\n",
    "    return np.array(X), np.array(y).reshape(-1, 1)\n",
    "\n",
    "def feature_reshaper(X):\n",
    "    return(X.reshape((X.shape[0],X.shape[1],1)))"
   ]
  },
  {
   "cell_type": "code",
   "execution_count": 30,
   "metadata": {},
   "outputs": [],
   "source": [
    "# Predict Closing Prices using a 10 day window of previous closing prices\n",
    "# Then, experiment with window sizes anywhere from 1 to 10 and see how the model performance changes\n",
    "window_size = 9\n",
    "\n",
    "# Column index 0 is the 'fng_value' column\n",
    "# Column index 1 is the `Close` column\n",
    "feature_column = 1\n",
    "target_column = 1\n",
    "X, y = window_data(df, window_size, feature_column, target_column)"
   ]
  },
  {
   "cell_type": "code",
   "execution_count": 31,
   "metadata": {},
   "outputs": [],
   "source": [
    "# Use 70% of the data for training and the remaineder for testing\n",
    "# YOUR CODE HERE!\n",
    "from sklearn.model_selection import train_test_split\n",
    "X_train,X_test,y_train,y_test =train_test_split(X,y,test_size=.3)"
   ]
  },
  {
   "cell_type": "code",
   "execution_count": 32,
   "metadata": {},
   "outputs": [],
   "source": [
    "from sklearn.preprocessing import MinMaxScaler\n",
    "# Use the MinMaxScaler to scale data between 0 and 1.\n",
    "# YOUR CODE HERE!\n",
    "scaler = MinMaxScaler()\n",
    "scaler.fit(X)\n",
    "X_train=scaler.transform(X_train)\n",
    "X_test=scaler.transform(X_test)\n",
    "scaler.fit(y)\n",
    "y_train=scaler.transform(y_train)\n",
    "y_test=scaler.transform(y_test)\n"
   ]
  },
  {
   "cell_type": "code",
   "execution_count": 33,
   "metadata": {},
   "outputs": [],
   "source": [
    "# Reshape the features for the model\n",
    "# YOUR CODE HERE!\n",
    "X_train = feature_reshaper(X_train)\n",
    "X_test = feature_reshaper(X_test)\n"
   ]
  },
  {
   "cell_type": "markdown",
   "metadata": {},
   "source": [
    "---"
   ]
  },
  {
   "cell_type": "markdown",
   "metadata": {},
   "source": [
    "## Build and Train the LSTM RNN\n",
    "\n",
    "In this section, you will design a custom LSTM RNN and fit (train) it using the training data.\n",
    "\n",
    "You will need to:\n",
    "1. Define the model architecture\n",
    "2. Compile the model\n",
    "3. Fit the model to the training data\n",
    "\n",
    "### Hints:\n",
    "You will want to use the same model architecture and random seed for both notebooks. This is necessary to accurately compare the performance of the FNG model vs the closing price model. "
   ]
  },
  {
   "cell_type": "code",
   "execution_count": 34,
   "metadata": {},
   "outputs": [],
   "source": [
    "from tensorflow.keras.models import Sequential\n",
    "from tensorflow.keras.layers import LSTM, Dense, Dropout"
   ]
  },
  {
   "cell_type": "code",
   "execution_count": 35,
   "metadata": {},
   "outputs": [],
   "source": [
    "# Build the LSTM model. \n",
    "# The return sequences need to be set to True if you are adding additional LSTM layers, but \n",
    "# You don't have to do this for the final layer. \n",
    "# Note: The dropouts help prevent overfitting\n",
    "# Note: The input shape is the number of time steps and the number of indicators\n",
    "# Note: Batching inputs has a different input shape of Samples/TimeSteps/Features\n",
    "\n",
    "# YOUR CODE HERE!\n",
    "model =Sequential()\n",
    "\n",
    "number_units=30\n",
    "dropout_fraction =.2\n",
    "\n",
    "\n"
   ]
  },
  {
   "cell_type": "code",
   "execution_count": 36,
   "metadata": {},
   "outputs": [],
   "source": [
    "# Compile the model\n",
    "# YOUR CODE HERE!\n",
    "#Layer 1\n",
    "model.add(LSTM(units=number_units,return_sequences=True,input_shape=(X_train.shape[1],1)))\n",
    "model.add(Dropout(dropout_fraction))\n",
    "#Layer 2\n",
    "model.add(LSTM(units=number_units,return_sequences=True))\n",
    "model.add(Dropout(dropout_fraction))\n",
    "#Layer 3\n",
    "model.add(LSTM(units=number_units))\n",
    "model.add(Dropout(dropout_fraction))\n",
    "#Output layer\n",
    "model.add(Dense(1))\n",
    "\n",
    "model.compile(optimizer=\"adam\", loss=\"mean_squared_error\")"
   ]
  },
  {
   "cell_type": "code",
   "execution_count": 37,
   "metadata": {},
   "outputs": [
    {
     "name": "stdout",
     "output_type": "stream",
     "text": [
      "Model: \"sequential_1\"\n",
      "_________________________________________________________________\n",
      " Layer (type)                Output Shape              Param #   \n",
      "=================================================================\n",
      " lstm_3 (LSTM)               (None, 10, 30)            3840      \n",
      "                                                                 \n",
      " dropout_3 (Dropout)         (None, 10, 30)            0         \n",
      "                                                                 \n",
      " lstm_4 (LSTM)               (None, 10, 30)            7320      \n",
      "                                                                 \n",
      " dropout_4 (Dropout)         (None, 10, 30)            0         \n",
      "                                                                 \n",
      " lstm_5 (LSTM)               (None, 30)                7320      \n",
      "                                                                 \n",
      " dropout_5 (Dropout)         (None, 30)                0         \n",
      "                                                                 \n",
      " dense_1 (Dense)             (None, 1)                 31        \n",
      "                                                                 \n",
      "=================================================================\n",
      "Total params: 18,511\n",
      "Trainable params: 18,511\n",
      "Non-trainable params: 0\n",
      "_________________________________________________________________\n"
     ]
    }
   ],
   "source": [
    "# Summarize the model\n",
    "# YOUR CODE HERE!\n",
    "model.summary()"
   ]
  },
  {
   "cell_type": "code",
   "execution_count": 38,
   "metadata": {},
   "outputs": [
    {
     "name": "stdout",
     "output_type": "stream",
     "text": [
      "Epoch 1/10\n",
      "11/11 [==============================] - 3s 9ms/step - loss: 0.1088\n",
      "Epoch 2/10\n",
      "11/11 [==============================] - 0s 7ms/step - loss: 0.0264\n",
      "Epoch 3/10\n",
      "11/11 [==============================] - 0s 7ms/step - loss: 0.0173\n",
      "Epoch 4/10\n",
      "11/11 [==============================] - 0s 7ms/step - loss: 0.0123\n",
      "Epoch 5/10\n",
      "11/11 [==============================] - 0s 8ms/step - loss: 0.0095\n",
      "Epoch 6/10\n",
      "11/11 [==============================] - 0s 7ms/step - loss: 0.0092\n",
      "Epoch 7/10\n",
      "11/11 [==============================] - 0s 7ms/step - loss: 0.0083\n",
      "Epoch 8/10\n",
      "11/11 [==============================] - 0s 7ms/step - loss: 0.0068\n",
      "Epoch 9/10\n",
      "11/11 [==============================] - 0s 7ms/step - loss: 0.0076\n",
      "Epoch 10/10\n",
      "11/11 [==============================] - 0s 7ms/step - loss: 0.0072\n"
     ]
    },
    {
     "data": {
      "text/plain": [
       "<keras.callbacks.History at 0x28ad41b5448>"
      ]
     },
     "execution_count": 38,
     "metadata": {},
     "output_type": "execute_result"
    }
   ],
   "source": [
    "# Train the model\n",
    "# Use at least 10 epochs\n",
    "# Do not shuffle the data\n",
    "# Experiement with the batch size, but a smaller batch size is recommended\n",
    "# YOUR CODE HERE!\n",
    "model.fit(X_train, y_train, epochs=10, shuffle=False, batch_size=35, verbose=1)"
   ]
  },
  {
   "cell_type": "markdown",
   "metadata": {},
   "source": [
    "---"
   ]
  },
  {
   "cell_type": "markdown",
   "metadata": {},
   "source": [
    "## Model Performance\n",
    "\n",
    "In this section, you will evaluate the model using the test data. \n",
    "\n",
    "You will need to:\n",
    "1. Evaluate the model using the `X_test` and `y_test` data.\n",
    "2. Use the X_test data to make predictions\n",
    "3. Create a DataFrame of Real (y_test) vs predicted values. \n",
    "4. Plot the Real vs predicted values as a line chart\n",
    "\n",
    "### Hints\n",
    "Remember to apply the `inverse_transform` function to the predicted and y_test values to recover the actual closing prices."
   ]
  },
  {
   "cell_type": "code",
   "execution_count": 39,
   "metadata": {},
   "outputs": [
    {
     "name": "stdout",
     "output_type": "stream",
     "text": [
      "5/5 [==============================] - 1s 3ms/step - loss: 0.0075\n"
     ]
    },
    {
     "data": {
      "text/plain": [
       "0.007484227418899536"
      ]
     },
     "execution_count": 39,
     "metadata": {},
     "output_type": "execute_result"
    }
   ],
   "source": [
    "# Evaluate the model\n",
    "model.evaluate(X_test, y_test)"
   ]
  },
  {
   "cell_type": "code",
   "execution_count": 40,
   "metadata": {},
   "outputs": [],
   "source": [
    "# Evaluate the model\n",
    "# YOUR CODE HERE!"
   ]
  },
  {
   "cell_type": "code",
   "execution_count": 41,
   "metadata": {},
   "outputs": [],
   "source": [
    "# Make some predictions\n",
    "# YOUR CODE HERE!\n",
    "predicted = model.predict(X_test)"
   ]
  },
  {
   "cell_type": "code",
   "execution_count": 43,
   "metadata": {},
   "outputs": [],
   "source": [
    "# Recover the original prices instead of the scaled version\n",
    "predicted_prices = scaler.inverse_transform(predicted)\n",
    "real_prices = scaler.inverse_transform(y_test.reshape(-1, 1))"
   ]
  },
  {
   "cell_type": "code",
   "execution_count": 44,
   "metadata": {},
   "outputs": [
    {
     "data": {
      "text/html": [
       "<div>\n",
       "<style scoped>\n",
       "    .dataframe tbody tr th:only-of-type {\n",
       "        vertical-align: middle;\n",
       "    }\n",
       "\n",
       "    .dataframe tbody tr th {\n",
       "        vertical-align: top;\n",
       "    }\n",
       "\n",
       "    .dataframe thead th {\n",
       "        text-align: right;\n",
       "    }\n",
       "</style>\n",
       "<table border=\"1\" class=\"dataframe\">\n",
       "  <thead>\n",
       "    <tr style=\"text-align: right;\">\n",
       "      <th></th>\n",
       "      <th>Real</th>\n",
       "      <th>Predicted</th>\n",
       "    </tr>\n",
       "  </thead>\n",
       "  <tbody>\n",
       "    <tr>\n",
       "      <th>2019-02-20</th>\n",
       "      <td>7503.20</td>\n",
       "      <td>7143.32</td>\n",
       "    </tr>\n",
       "    <tr>\n",
       "      <th>2019-02-21</th>\n",
       "      <td>6583.05</td>\n",
       "      <td>6302.65</td>\n",
       "    </tr>\n",
       "    <tr>\n",
       "      <th>2019-02-22</th>\n",
       "      <td>5289.75</td>\n",
       "      <td>5100.72</td>\n",
       "    </tr>\n",
       "    <tr>\n",
       "      <th>2019-02-23</th>\n",
       "      <td>5234.09</td>\n",
       "      <td>5220.41</td>\n",
       "    </tr>\n",
       "    <tr>\n",
       "      <th>2019-02-24</th>\n",
       "      <td>6632.87</td>\n",
       "      <td>6362.55</td>\n",
       "    </tr>\n",
       "  </tbody>\n",
       "</table>\n",
       "</div>"
      ],
      "text/plain": [
       "              Real  Predicted\n",
       "2019-02-20 7503.20    7143.32\n",
       "2019-02-21 6583.05    6302.65\n",
       "2019-02-22 5289.75    5100.72\n",
       "2019-02-23 5234.09    5220.41\n",
       "2019-02-24 6632.87    6362.55"
      ]
     },
     "execution_count": 44,
     "metadata": {},
     "output_type": "execute_result"
    }
   ],
   "source": [
    "pd.options.display.float_format = '{:.2f}'.format\n",
    "# Create a DataFrame of Real and Predicted values\n",
    "stocks = pd.DataFrame({\n",
    "    \"Real\": real_prices.ravel(),\n",
    "    \"Predicted\": predicted_prices.ravel()\n",
    "}, index = df.index[-len(real_prices): ]) \n",
    "stocks.head()"
   ]
  },
  {
   "cell_type": "code",
   "execution_count": 49,
   "metadata": {},
   "outputs": [
    {
     "data": {
      "text/plain": [
       "<AxesSubplot:>"
      ]
     },
     "execution_count": 49,
     "metadata": {},
     "output_type": "execute_result"
    },
    {
     "data": {
      "image/png": "[encoded data removed]",
      "text/plain": [
       "<Figure size 432x288 with 1 Axes>"
      ]
     },
     "metadata": {
      "needs_background": "light"
     },
     "output_type": "display_data"
    }
   ],
   "source": [
    "# Plot the real vs predicted values as a line chart\n",
    "# YOUR CODE HERE!\n",
    "stocks.plot()\n"
   ]
  },
  {
   "cell_type": "code",
   "execution_count": 65,
   "metadata": {},
   "outputs": [
    {
     "name": "stdout",
     "output_type": "stream",
     "text": [
      "5/5 [==============================] - 0s 3ms/step - loss: 0.0055\n",
      "0.005521927960216999\n"
     ]
    }
   ],
   "source": [
    "# from tensorflow.keras.metrics import mean_squared_error\n",
    "# mean_squared_error(real_prices,predicted_prices)\n",
    "\n",
    "loss=(model.evaluate(X_test, y_test))\n",
    "print(loss)\n"
   ]
  },
  {
   "cell_type": "code",
   "execution_count": 77,
   "metadata": {},
   "outputs": [],
   "source": [
    "def get_alternate_scenarios(df,window_size):\n",
    "    X, y = window_data(df, window_size, feature_column, target_column)\n",
    "    X_train,X_test,y_train,y_test =train_test_split(X,y,test_size=.3)\n",
    "    scaler = MinMaxScaler()\n",
    "    scaler.fit(X)\n",
    "    X_train=scaler.transform(X_train)\n",
    "    X_test=scaler.transform(X_test)\n",
    "    scaler.fit(y)\n",
    "    y_train=scaler.transform(y_train)\n",
    "    y_test=scaler.transform(y_test)\n",
    "    X_train = feature_reshaper(X_train)\n",
    "    X_test = feature_reshaper(X_test)\n",
    "\n",
    "    model =Sequential()\n",
    "\n",
    "    number_units=30\n",
    "    dropout_fraction =.2\n",
    "\n",
    "    #Layer 1\n",
    "    model.add(LSTM(units=number_units,return_sequences=True,input_shape=(X_train.shape[1],1)))\n",
    "    model.add(Dropout(dropout_fraction))\n",
    "    #Layer 2\n",
    "    model.add(LSTM(units=number_units,return_sequences=True))\n",
    "    model.add(Dropout(dropout_fraction))\n",
    "    #Layer 3\n",
    "    model.add(LSTM(units=number_units))\n",
    "    model.add(Dropout(dropout_fraction))\n",
    "    #Output layer\n",
    "    model.add(Dense(1))\n",
    "\n",
    "    model.compile(optimizer=\"adam\", loss=\"mean_squared_error\", metrics=['accuracy'])\n",
    "\n",
    "    model.fit(X_train, y_train, epochs=10, shuffle=False, batch_size=35)\n",
    "\n",
    "    loss=model.evaluate(X_test, y_test)\n",
    "\n",
    "    print(f'the window size is {window_size} and the loss is {loss}')\n",
    "    return (window_size,loss)\n",
    "\n",
    "\n",
    "\n"
   ]
  },
  {
   "cell_type": "code",
   "execution_count": 79,
   "metadata": {},
   "outputs": [
    {
     "name": "stdout",
     "output_type": "stream",
     "text": [
      "Epoch 1/10\n",
      "11/11 [==============================] - 3s 3ms/step - loss: 0.1679 - accuracy: 0.0000e+00\n",
      "Epoch 2/10\n",
      "11/11 [==============================] - 0s 3ms/step - loss: 0.1450 - accuracy: 0.0000e+00\n",
      "Epoch 3/10\n",
      "11/11 [==============================] - 0s 3ms/step - loss: 0.1196 - accuracy: 0.0000e+00\n",
      "Epoch 4/10\n",
      "11/11 [==============================] - 0s 3ms/step - loss: 0.0889 - accuracy: 0.0000e+00\n",
      "Epoch 5/10\n",
      "11/11 [==============================] - 0s 3ms/step - loss: 0.0587 - accuracy: 0.0000e+00\n",
      "Epoch 6/10\n",
      "11/11 [==============================] - 0s 3ms/step - loss: 0.0409 - accuracy: 0.0000e+00\n",
      "Epoch 7/10\n",
      "11/11 [==============================] - 0s 3ms/step - loss: 0.0363 - accuracy: 0.0026\n",
      "Epoch 8/10\n",
      "11/11 [==============================] - 0s 3ms/step - loss: 0.0347 - accuracy: 0.0026\n",
      "Epoch 9/10\n",
      "11/11 [==============================] - 0s 3ms/step - loss: 0.0286 - accuracy: 0.0000e+00\n",
      "Epoch 10/10\n",
      "11/11 [==============================] - 0s 4ms/step - loss: 0.0257 - accuracy: 0.0026\n",
      "6/6 [==============================] - 1s 2ms/step - loss: 0.0227 - accuracy: 0.0061\n",
      "the window size is 1 and the loss is [0.022742534056305885, 0.0061349691823124886]\n",
      "Epoch 1/10\n",
      "11/11 [==============================] - 3s 4ms/step - loss: 0.1725 - accuracy: 0.0026 \n",
      "Epoch 2/10\n",
      "11/11 [==============================] - 0s 4ms/step - loss: 0.1267 - accuracy: 0.0026\n",
      "Epoch 3/10\n",
      "11/11 [==============================] - 0s 4ms/step - loss: 0.0770 - accuracy: 0.0026\n",
      "Epoch 4/10\n",
      "11/11 [==============================] - 0s 4ms/step - loss: 0.0413 - accuracy: 0.0026\n",
      "Epoch 5/10\n",
      "11/11 [==============================] - 0s 4ms/step - loss: 0.0374 - accuracy: 0.0053\n",
      "Epoch 6/10\n",
      "11/11 [==============================] - 0s 4ms/step - loss: 0.0310 - accuracy: 0.0053\n",
      "Epoch 7/10\n",
      "11/11 [==============================] - 0s 4ms/step - loss: 0.0240 - accuracy: 0.0026\n",
      "Epoch 8/10\n",
      "11/11 [==============================] - 0s 4ms/step - loss: 0.0176 - accuracy: 0.0053\n",
      "Epoch 9/10\n",
      "11/11 [==============================] - 0s 4ms/step - loss: 0.0118 - accuracy: 0.0053\n",
      "Epoch 10/10\n",
      "11/11 [==============================] - 0s 4ms/step - loss: 0.0081 - accuracy: 0.0053\n",
      "6/6 [==============================] - 1s 2ms/step - loss: 0.0048 - accuracy: 0.0000e+00\n",
      "the window size is 2 and the loss is [0.004752780310809612, 0.0]\n",
      "Epoch 1/10\n",
      "11/11 [==============================] - 3s 5ms/step - loss: 0.1671 - accuracy: 0.0027 \n",
      "Epoch 2/10\n",
      "11/11 [==============================] - 0s 5ms/step - loss: 0.1139 - accuracy: 0.0027\n",
      "Epoch 3/10\n",
      "11/11 [==============================] - 0s 4ms/step - loss: 0.0534 - accuracy: 0.0027\n",
      "Epoch 4/10\n",
      "11/11 [==============================] - 0s 5ms/step - loss: 0.0367 - accuracy: 0.0027\n",
      "Epoch 5/10\n",
      "11/11 [==============================] - 0s 4ms/step - loss: 0.0290 - accuracy: 0.0027\n",
      "Epoch 6/10\n",
      "11/11 [==============================] - 0s 5ms/step - loss: 0.0220 - accuracy: 0.0027\n",
      "Epoch 7/10\n",
      "11/11 [==============================] - 0s 5ms/step - loss: 0.0141 - accuracy: 0.0027\n",
      "Epoch 8/10\n",
      "11/11 [==============================] - 0s 4ms/step - loss: 0.0083 - accuracy: 0.0027\n",
      "Epoch 9/10\n",
      "11/11 [==============================] - 0s 8ms/step - loss: 0.0081 - accuracy: 0.0027\n",
      "Epoch 10/10\n",
      "11/11 [==============================] - 0s 5ms/step - loss: 0.0075 - accuracy: 0.0027\n",
      "6/6 [==============================] - 1s 2ms/step - loss: 0.0051 - accuracy: 0.0062\n",
      "the window size is 3 and the loss is [0.00509647699072957, 0.006172839552164078]\n",
      "Epoch 1/10\n",
      "11/11 [==============================] - 3s 5ms/step - loss: 0.1593 - accuracy: 0.0027\n",
      "Epoch 2/10\n",
      "11/11 [==============================] - 0s 6ms/step - loss: 0.0953 - accuracy: 0.0027\n",
      "Epoch 3/10\n",
      "11/11 [==============================] - 0s 5ms/step - loss: 0.0416 - accuracy: 0.0027\n",
      "Epoch 4/10\n",
      "11/11 [==============================] - 0s 5ms/step - loss: 0.0321 - accuracy: 0.0027\n",
      "Epoch 5/10\n",
      "11/11 [==============================] - 0s 5ms/step - loss: 0.0219 - accuracy: 0.0053\n",
      "Epoch 6/10\n",
      "11/11 [==============================] - 0s 5ms/step - loss: 0.0147 - accuracy: 0.0053\n",
      "Epoch 7/10\n",
      "11/11 [==============================] - 0s 5ms/step - loss: 0.0083 - accuracy: 0.0053\n",
      "Epoch 8/10\n",
      "11/11 [==============================] - 0s 5ms/step - loss: 0.0085 - accuracy: 0.0053\n",
      "Epoch 9/10\n",
      "11/11 [==============================] - 0s 5ms/step - loss: 0.0074 - accuracy: 0.0053\n",
      "Epoch 10/10\n",
      "11/11 [==============================] - 0s 5ms/step - loss: 0.0075 - accuracy: 0.0053\n",
      "6/6 [==============================] - 1s 2ms/step - loss: 0.0049 - accuracy: 0.0000e+00\n",
      "the window size is 4 and the loss is [0.004913285840302706, 0.0]\n",
      "Epoch 1/10\n",
      "11/11 [==============================] - 3s 7ms/step - loss: 0.1549 - accuracy: 0.0027\n",
      "Epoch 2/10\n",
      "11/11 [==============================] - 0s 6ms/step - loss: 0.0646 - accuracy: 0.0027\n",
      "Epoch 3/10\n",
      "11/11 [==============================] - 0s 6ms/step - loss: 0.0314 - accuracy: 0.0053\n",
      "Epoch 4/10\n",
      "11/11 [==============================] - 0s 6ms/step - loss: 0.0216 - accuracy: 0.0027\n",
      "Epoch 5/10\n",
      "11/11 [==============================] - 0s 6ms/step - loss: 0.0148 - accuracy: 0.0053\n",
      "Epoch 6/10\n",
      "11/11 [==============================] - 0s 6ms/step - loss: 0.0113 - accuracy: 0.0027\n",
      "Epoch 7/10\n",
      "11/11 [==============================] - 0s 6ms/step - loss: 0.0089 - accuracy: 0.0053\n",
      "Epoch 8/10\n",
      "11/11 [==============================] - 0s 6ms/step - loss: 0.0089 - accuracy: 0.0053\n",
      "Epoch 9/10\n",
      "11/11 [==============================] - 0s 6ms/step - loss: 0.0083 - accuracy: 0.0053\n",
      "Epoch 10/10\n",
      "11/11 [==============================] - 0s 6ms/step - loss: 0.0074 - accuracy: 0.0053\n",
      "6/6 [==============================] - 1s 2ms/step - loss: 0.0032 - accuracy: 0.0000e+00\n",
      "the window size is 5 and the loss is [0.0032048707362264395, 0.0]\n",
      "Epoch 1/10\n",
      "11/11 [==============================] - 3s 7ms/step - loss: 0.1445 - accuracy: 0.0027\n",
      "Epoch 2/10\n",
      "11/11 [==============================] - 0s 7ms/step - loss: 0.0519 - accuracy: 0.0027\n",
      "Epoch 3/10\n",
      "11/11 [==============================] - 0s 7ms/step - loss: 0.0281 - accuracy: 0.0027\n",
      "Epoch 4/10\n",
      "11/11 [==============================] - 0s 7ms/step - loss: 0.0189 - accuracy: 0.0053\n",
      "Epoch 5/10\n",
      "11/11 [==============================] - 0s 7ms/step - loss: 0.0126 - accuracy: 0.0053\n",
      "Epoch 6/10\n",
      "11/11 [==============================] - 0s 7ms/step - loss: 0.0094 - accuracy: 0.0053\n",
      "Epoch 7/10\n",
      "11/11 [==============================] - 0s 7ms/step - loss: 0.0092 - accuracy: 0.0053\n",
      "Epoch 8/10\n",
      "11/11 [==============================] - 0s 7ms/step - loss: 0.0073 - accuracy: 0.0053\n",
      "Epoch 9/10\n",
      "11/11 [==============================] - 0s 7ms/step - loss: 0.0076 - accuracy: 0.0053\n",
      "Epoch 10/10\n",
      "11/11 [==============================] - 0s 7ms/step - loss: 0.0072 - accuracy: 0.0053\n",
      "6/6 [==============================] - 1s 3ms/step - loss: 0.0041 - accuracy: 0.0000e+00\n",
      "the window size is 6 and the loss is [0.004092475865036249, 0.0]\n",
      "Epoch 1/10\n",
      "11/11 [==============================] - 3s 8ms/step - loss: 0.1257 - accuracy: 0.0000e+00\n",
      "Epoch 2/10\n",
      "11/11 [==============================] - 0s 8ms/step - loss: 0.0337 - accuracy: 0.0000e+00\n",
      "Epoch 3/10\n",
      "11/11 [==============================] - 0s 7ms/step - loss: 0.0240 - accuracy: 0.0000e+00\n",
      "Epoch 4/10\n",
      "11/11 [==============================] - 0s 7ms/step - loss: 0.0156 - accuracy: 0.0000e+00\n",
      "Epoch 5/10\n",
      "11/11 [==============================] - 0s 7ms/step - loss: 0.0110 - accuracy: 0.0000e+00\n",
      "Epoch 6/10\n",
      "11/11 [==============================] - 0s 8ms/step - loss: 0.0081 - accuracy: 0.0000e+00\n",
      "Epoch 7/10\n",
      "11/11 [==============================] - 0s 8ms/step - loss: 0.0073 - accuracy: 0.0000e+00\n",
      "Epoch 8/10\n",
      "11/11 [==============================] - 0s 8ms/step - loss: 0.0068 - accuracy: 0.0000e+00\n",
      "Epoch 9/10\n",
      "11/11 [==============================] - 0s 7ms/step - loss: 0.0070 - accuracy: 0.0000e+00\n",
      "Epoch 10/10\n",
      "11/11 [==============================] - 0s 7ms/step - loss: 0.0069 - accuracy: 0.0000e+00\n",
      "6/6 [==============================] - 1s 3ms/step - loss: 0.0065 - accuracy: 0.0124\n",
      "the window size is 7 and the loss is [0.006461278069764376, 0.012422360479831696]\n",
      "Epoch 1/10\n",
      "11/11 [==============================] - 3s 9ms/step - loss: 0.1107 - accuracy: 0.0027\n",
      "Epoch 2/10\n",
      "11/11 [==============================] - 0s 8ms/step - loss: 0.0310 - accuracy: 0.0027\n",
      "Epoch 3/10\n",
      "11/11 [==============================] - 0s 8ms/step - loss: 0.0211 - accuracy: 0.0027\n",
      "Epoch 4/10\n",
      "11/11 [==============================] - 0s 8ms/step - loss: 0.0149 - accuracy: 0.0027\n",
      "Epoch 5/10\n",
      "11/11 [==============================] - 0s 8ms/step - loss: 0.0096 - accuracy: 0.0027\n",
      "Epoch 6/10\n",
      "11/11 [==============================] - 0s 8ms/step - loss: 0.0074 - accuracy: 0.0027\n",
      "Epoch 7/10\n",
      "11/11 [==============================] - 0s 8ms/step - loss: 0.0087 - accuracy: 0.0027\n",
      "Epoch 8/10\n",
      "11/11 [==============================] - 0s 8ms/step - loss: 0.0081 - accuracy: 0.0027\n",
      "Epoch 9/10\n",
      "11/11 [==============================] - 0s 8ms/step - loss: 0.0084 - accuracy: 0.0027\n",
      "Epoch 10/10\n",
      "11/11 [==============================] - 0s 8ms/step - loss: 0.0069 - accuracy: 0.0027\n",
      "6/6 [==============================] - 1s 3ms/step - loss: 0.0058 - accuracy: 0.0062\n",
      "the window size is 8 and the loss is [0.0057649677619338036, 0.006211180239915848]\n",
      "Epoch 1/10\n",
      "11/11 [==============================] - 3s 10ms/step - loss: 0.1173 - accuracy: 0.0027\n",
      "Epoch 2/10\n",
      "11/11 [==============================] - 0s 8ms/step - loss: 0.0296 - accuracy: 0.0054\n",
      "Epoch 3/10\n",
      "11/11 [==============================] - 0s 9ms/step - loss: 0.0196 - accuracy: 0.0054\n",
      "Epoch 4/10\n",
      "11/11 [==============================] - 0s 8ms/step - loss: 0.0129 - accuracy: 0.0054\n",
      "Epoch 5/10\n",
      "11/11 [==============================] - 0s 8ms/step - loss: 0.0113 - accuracy: 0.0054\n",
      "Epoch 6/10\n",
      "11/11 [==============================] - 0s 8ms/step - loss: 0.0097 - accuracy: 0.0027\n",
      "Epoch 7/10\n",
      "11/11 [==============================] - 0s 9ms/step - loss: 0.0078 - accuracy: 0.0054\n",
      "Epoch 8/10\n",
      "11/11 [==============================] - 0s 8ms/step - loss: 0.0087 - accuracy: 0.0054\n",
      "Epoch 9/10\n",
      "11/11 [==============================] - 0s 8ms/step - loss: 0.0089 - accuracy: 0.0054\n",
      "Epoch 10/10\n",
      "11/11 [==============================] - 0s 10ms/step - loss: 0.0087 - accuracy: 0.0054\n",
      "5/5 [==============================] - 1s 3ms/step - loss: 0.0040 - accuracy: 0.0000e+00\n",
      "the window size is 9 and the loss is [0.004030059557408094, 0.0]\n",
      "Epoch 1/10\n",
      "11/11 [==============================] - 3s 10ms/step - loss: 0.0935 - accuracy: 0.0000e+00\n",
      "Epoch 2/10\n",
      "11/11 [==============================] - 0s 9ms/step - loss: 0.0244 - accuracy: 0.0000e+00\n",
      "Epoch 3/10\n",
      "11/11 [==============================] - 0s 9ms/step - loss: 0.0152 - accuracy: 0.0000e+00\n",
      "Epoch 4/10\n",
      "11/11 [==============================] - 0s 9ms/step - loss: 0.0108 - accuracy: 0.0027\n",
      "Epoch 5/10\n",
      "11/11 [==============================] - 0s 9ms/step - loss: 0.0097 - accuracy: 0.0027\n",
      "Epoch 6/10\n",
      "11/11 [==============================] - 0s 9ms/step - loss: 0.0083 - accuracy: 0.0027\n",
      "Epoch 7/10\n",
      "11/11 [==============================] - 0s 9ms/step - loss: 0.0082 - accuracy: 0.0027\n",
      "Epoch 8/10\n",
      "11/11 [==============================] - 0s 9ms/step - loss: 0.0081 - accuracy: 0.0000e+00\n",
      "Epoch 9/10\n",
      "11/11 [==============================] - 0s 9ms/step - loss: 0.0076 - accuracy: 0.0027\n",
      "Epoch 10/10\n",
      "11/11 [==============================] - 0s 9ms/step - loss: 0.0087 - accuracy: 0.0027\n",
      "5/5 [==============================] - 1s 3ms/step - loss: 0.0051 - accuracy: 0.0063\n",
      "the window size is 10 and the loss is [0.005127803422510624, 0.0062500000931322575]\n",
      "[(1, [0.022742534056305885, 0.0061349691823124886]), (2, [0.004752780310809612, 0.0]), (3, [0.00509647699072957, 0.006172839552164078]), (4, [0.004913285840302706, 0.0]), (5, [0.0032048707362264395, 0.0]), (6, [0.004092475865036249, 0.0]), (7, [0.006461278069764376, 0.012422360479831696]), (8, [0.0057649677619338036, 0.006211180239915848]), (9, [0.004030059557408094, 0.0]), (10, [0.005127803422510624, 0.0062500000931322575])]\n"
     ]
    }
   ],
   "source": [
    "l=[get_alternate_scenarios(df,i) for i in range(1,11)]\n",
    "print(l)"
   ]
  }
 ],
 "metadata": {
  "file_extension": ".py",
  "interpreter": {
   "hash": "6de694694cbb2e8ace9ccbc90934aa5178d90c4eee409b3b12342a43a5b1ecdc"
  },
  "kernelspec": {
   "display_name": "Python 3.7.7 64-bit ('dev': conda)",
   "language": "python",
   "name": "python3"
  },
  "language_info": {
   "codemirror_mode": {
    "name": "ipython",
    "version": 3
   },
   "file_extension": ".py",
   "mimetype": "text/x-python",
   "name": "python",
   "nbconvert_exporter": "python",
   "pygments_lexer": "ipython3",
   "version": "3.7.10"
  },
  "mimetype": "text/x-python",
  "name": "python",
  "npconvert_exporter": "python",
  "pygments_lexer": "ipython3",
  "version": 3
 },
 "nbformat": 4,
 "nbformat_minor": 4
}
