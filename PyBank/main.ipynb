{
 "cells": [
  {
   "cell_type": "code",
   "execution_count": 149,
   "metadata": {},
   "outputs": [
    {
     "name": "stdout",
     "output_type": "stream",
     "text": [
      "[WinError 2] The system cannot find the file specified: 'Resources'\n",
      "C:\\Users\\ngond\\python-homework\\PyBank\\Resources\n"
     ]
    }
   ],
   "source": [
    "# Import libraries and dependencies\n",
    "import pandas as pd\n",
    "from pathlib import Path\n",
    "import csv\n",
    "%matplotlib inline\n",
    "%cd Resources\n",
    "file_to_output = Path(\"..\\Report.txt\")"
   ]
  },
  {
   "cell_type": "code",
   "execution_count": 140,
   "metadata": {},
   "outputs": [],
   "source": [
    "budget=pd.read_csv('budget_data.csv')\n"
   ]
  },
  {
   "cell_type": "code",
   "execution_count": 141,
   "metadata": {},
   "outputs": [],
   "source": [
    "budget['Month']=budget['Date'].str.slice(0,3,1)"
   ]
  },
  {
   "cell_type": "code",
   "execution_count": 142,
   "metadata": {},
   "outputs": [],
   "source": [
    "TotalMonths=budget['Month'].value_counts().sum()\n"
   ]
  },
  {
   "cell_type": "code",
   "execution_count": 143,
   "metadata": {},
   "outputs": [],
   "source": [
    "NetProfitLoss=budget['Profit/Losses'].sum()\n"
   ]
  },
  {
   "cell_type": "code",
   "execution_count": 144,
   "metadata": {},
   "outputs": [
    {
     "data": {
      "text/html": [
       "<div>\n",
       "<style scoped>\n",
       "    .dataframe tbody tr th:only-of-type {\n",
       "        vertical-align: middle;\n",
       "    }\n",
       "\n",
       "    .dataframe tbody tr th {\n",
       "        vertical-align: top;\n",
       "    }\n",
       "\n",
       "    .dataframe thead th {\n",
       "        text-align: right;\n",
       "    }\n",
       "</style>\n",
       "<table border=\"1\" class=\"dataframe\">\n",
       "  <thead>\n",
       "    <tr style=\"text-align: right;\">\n",
       "      <th></th>\n",
       "      <th>Date</th>\n",
       "      <th>Profit/Losses</th>\n",
       "      <th>Month</th>\n",
       "    </tr>\n",
       "    <tr>\n",
       "      <th>Date</th>\n",
       "      <th></th>\n",
       "      <th></th>\n",
       "      <th></th>\n",
       "    </tr>\n",
       "  </thead>\n",
       "  <tbody>\n",
       "    <tr>\n",
       "      <th>2010-01-01</th>\n",
       "      <td>Jan-2010</td>\n",
       "      <td>867884</td>\n",
       "      <td>Jan</td>\n",
       "    </tr>\n",
       "    <tr>\n",
       "      <th>2010-02-01</th>\n",
       "      <td>Feb-2010</td>\n",
       "      <td>984655</td>\n",
       "      <td>Feb</td>\n",
       "    </tr>\n",
       "    <tr>\n",
       "      <th>2010-03-01</th>\n",
       "      <td>Mar-2010</td>\n",
       "      <td>322013</td>\n",
       "      <td>Mar</td>\n",
       "    </tr>\n",
       "    <tr>\n",
       "      <th>2010-04-01</th>\n",
       "      <td>Apr-2010</td>\n",
       "      <td>-69417</td>\n",
       "      <td>Apr</td>\n",
       "    </tr>\n",
       "    <tr>\n",
       "      <th>2010-05-01</th>\n",
       "      <td>May-2010</td>\n",
       "      <td>310503</td>\n",
       "      <td>May</td>\n",
       "    </tr>\n",
       "    <tr>\n",
       "      <th>...</th>\n",
       "      <td>...</td>\n",
       "      <td>...</td>\n",
       "      <td>...</td>\n",
       "    </tr>\n",
       "    <tr>\n",
       "      <th>2016-10-01</th>\n",
       "      <td>Oct-2016</td>\n",
       "      <td>102685</td>\n",
       "      <td>Oct</td>\n",
       "    </tr>\n",
       "    <tr>\n",
       "      <th>2016-11-01</th>\n",
       "      <td>Nov-2016</td>\n",
       "      <td>795914</td>\n",
       "      <td>Nov</td>\n",
       "    </tr>\n",
       "    <tr>\n",
       "      <th>2016-12-01</th>\n",
       "      <td>Dec-2016</td>\n",
       "      <td>60988</td>\n",
       "      <td>Dec</td>\n",
       "    </tr>\n",
       "    <tr>\n",
       "      <th>2017-01-01</th>\n",
       "      <td>Jan-2017</td>\n",
       "      <td>138230</td>\n",
       "      <td>Jan</td>\n",
       "    </tr>\n",
       "    <tr>\n",
       "      <th>2017-02-01</th>\n",
       "      <td>Feb-2017</td>\n",
       "      <td>671099</td>\n",
       "      <td>Feb</td>\n",
       "    </tr>\n",
       "  </tbody>\n",
       "</table>\n",
       "<p>86 rows × 3 columns</p>\n",
       "</div>"
      ],
      "text/plain": [
       "                Date  Profit/Losses Month\n",
       "Date                                     \n",
       "2010-01-01  Jan-2010         867884   Jan\n",
       "2010-02-01  Feb-2010         984655   Feb\n",
       "2010-03-01  Mar-2010         322013   Mar\n",
       "2010-04-01  Apr-2010         -69417   Apr\n",
       "2010-05-01  May-2010         310503   May\n",
       "...              ...            ...   ...\n",
       "2016-10-01  Oct-2016         102685   Oct\n",
       "2016-11-01  Nov-2016         795914   Nov\n",
       "2016-12-01  Dec-2016          60988   Dec\n",
       "2017-01-01  Jan-2017         138230   Jan\n",
       "2017-02-01  Feb-2017         671099   Feb\n",
       "\n",
       "[86 rows x 3 columns]"
      ]
     },
     "execution_count": 144,
     "metadata": {},
     "output_type": "execute_result"
    }
   ],
   "source": [
    "budget.set_index(pd.to_datetime(budget['Date'],infer_datetime_format=True),inplace=True)\n",
    "budget\n",
    "#avgChange=budget['Profit/Losses'].mean()\n",
    "#print(f'the average change: ${avgChange}')"
   ]
  },
  {
   "cell_type": "code",
   "execution_count": 145,
   "metadata": {},
   "outputs": [],
   "source": [
    "budget['diff']=budget['Profit/Losses']-budget['Profit/Losses'].shift(1)\n",
    "avgChange=round(budget['diff'].mean(),2)\n",
    "maxProfits=budget['diff'].max()\n",
    "maxDate= budget['Date'].loc[budget['diff']==maxProfits]\n",
    "maxDate=maxDate.to_frame()['Date'].values[0]\n",
    "minProfits=budget['diff'].min()\n",
    "minDate=budget['Date'].loc[budget['diff']==minProfits]\n",
    "minDate=minDate.to_frame()['Date'].values[0]"
   ]
  },
  {
   "cell_type": "code",
   "execution_count": 146,
   "metadata": {},
   "outputs": [
    {
     "name": "stdout",
     "output_type": "stream",
     "text": [
      "Financial Analysis\n",
      "-----------------\n",
      "\n",
      "Average  Change: $-2315.12\n",
      "Greatest Increase in Profits: Feb-2012 ($1926159.0)\n",
      "Greatest Increase in Profits: Sep-2013 ($-2196167.0)\n"
     ]
    }
   ],
   "source": [
    "print('Financial Analysis\\n-----------------\\n')\n",
    "print(f'Average  Change: ${avgChange}')\n",
    "print(f'Greatest Increase in Profits: {maxDate} (${maxProfits})')\n",
    "print(f'Greatest Increase in Profits: {minDate} (${minProfits})')\n",
    "\n",
    "      "
   ]
  },
  {
   "cell_type": "code",
   "execution_count": 150,
   "metadata": {},
   "outputs": [],
   "source": [
    "with open(file_to_output,'w') as txt_file:\n",
    "    txt_file.write(f'Financial Analysis\\n-----------------\\n')\n",
    "    txt_file.write(f'the total number of months :{TotalMonths}\\n')\n",
    "    txt_file.write(f'the net total amount of Profit/Losses over the entire period is ${NetProfitLoss}')\n",
    "    txt_file.write(f'Average  Change: ${avgChange}\\n')\n",
    "    txt_file.write(f'Greatest Increase in Profits: {maxDate} (${maxProfits})\\n')\n",
    "    txt_file.write(f'Greatest Increase in Profits: {minDate} (${minProfits})\\n')\n"
   ]
  }
 ],
 "metadata": {
  "kernelspec": {
   "display_name": "Python 3",
   "language": "python",
   "name": "python3"
  },
  "language_info": {
   "codemirror_mode": {
    "name": "ipython",
    "version": 3
   },
   "file_extension": ".py",
   "mimetype": "text/x-python",
   "name": "python",
   "nbconvert_exporter": "python",
   "pygments_lexer": "ipython3",
   "version": "3.8.5"
  }
 },
 "nbformat": 4,
 "nbformat_minor": 4
}
